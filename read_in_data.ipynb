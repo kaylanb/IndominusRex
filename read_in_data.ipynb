{
 "metadata": {
  "name": "",
  "signature": "sha256:4abe0d9fd4abc44d67291bff824298335dda80221c11644381ea6b6b98464066"
 },
 "nbformat": 3,
 "nbformat_minor": 0,
 "worksheets": [
  {
   "cells": [
    {
     "cell_type": "heading",
     "level": 1,
     "metadata": {},
     "source": [
      "Reads in EEG data"
     ]
    },
    {
     "cell_type": "code",
     "collapsed": false,
     "input": [
      "# %matplotlib inline\n",
      "import matplotlib.pyplot as plt\n",
      "import numpy as np\n",
      "import glob\n",
      "import pandas"
     ],
     "language": "python",
     "metadata": {},
     "outputs": [],
     "prompt_number": 1
    },
    {
     "cell_type": "markdown",
     "metadata": {},
     "source": [
      "read in data for 1 person, 1 series \n",
      "how to: data['Fp1'] will be the EEG for channel/location Fp1 as a numpy array "
     ]
    },
    {
     "cell_type": "code",
     "collapsed": false,
     "input": [
      "\n",
      "#get header info\n",
      "columns= fin.readline().split(',')\n",
      "columns[-1]=columns[-1].strip()\n",
      "fin.close()\n",
      "#read in all data\n",
      "formats=['S10']+['f10']*(len(columns)-1)\n",
      "dtype={'names': columns,'formats': formats}\n",
      "data= np.loadtxt('train/subj1_series1_data.csv', delimiter=',',skiprows=1,dtype=dtype) \n",
      "#time is number of EEG data points / 500, since 500 Hz sampling frequency\n",
      "time=np.arange(1,data['Fp1'].shape[0]+1)\n",
      "print columns"
     ],
     "language": "python",
     "metadata": {},
     "outputs": [
      {
       "output_type": "stream",
       "stream": "stdout",
       "text": [
        "['id', 'Fp1', 'Fp2', 'F7', 'F3', 'Fz', 'F4', 'F8', 'FC5', 'FC1', 'FC2', 'FC6', 'T7', 'C3', 'Cz', 'C4', 'T8', 'TP9', 'CP5', 'CP1', 'CP2', 'CP6', 'TP10', 'P7', 'P3', 'Pz', 'P4', 'P8', 'PO9', 'O1', 'Oz', 'O2', 'PO10']\n"
       ]
      }
     ],
     "prompt_number": 2
    },
    {
     "cell_type": "code",
     "collapsed": false,
     "input": [
      "plt.plot(time/500.,data['Fp1'])\n",
      "plt.show()\n"
     ],
     "language": "python",
     "metadata": {},
     "outputs": [],
     "prompt_number": 3
    },
    {
     "cell_type": "code",
     "collapsed": false,
     "input": [
      "files= glob.glob('train/subj1_series1_*.csv')\n",
      "data= pandas.read_csv(files[0])\n",
      "events=pandas.read_csv(files[1])"
     ],
     "language": "python",
     "metadata": {},
     "outputs": [],
     "prompt_number": 4
    },
    {
     "cell_type": "code",
     "collapsed": false,
     "input": [
      "np.where(events.HandStart == 1)"
     ],
     "language": "python",
     "metadata": {},
     "outputs": [
      {
       "metadata": {},
       "output_type": "pyout",
       "prompt_number": 36,
       "text": [
        "(array([  1068,   1069,   1070, ..., 116324, 116325, 116326]),)"
       ]
      }
     ],
     "prompt_number": 36
    },
    {
     "cell_type": "code",
     "collapsed": false,
     "input": [
      "time=np.arange(data.Fp1.shape[0])\n",
      "max=2500\n",
      "plt.plot(time[:max],data.F3[:max])\n",
      "plt.plot(time[:max],events.HandStart[:max]*3000)\n",
      "plt.plot(time[:max],events.FirstDigitTouch[:max]*3000)\n",
      "plt.plot(time[:max],events.BothStartLoadPhase[:max]*3000)\n",
      "plt.plot(time[:max],events.LiftOff[:max]*3000)\n",
      "plt.plot(time[:max],events.BothReleased[:max]*3000)\n",
      "\n"
     ],
     "language": "python",
     "metadata": {},
     "outputs": [
      {
       "metadata": {},
       "output_type": "pyout",
       "prompt_number": 3,
       "text": [
        "[<matplotlib.lines.Line2D at 0x109cebc50>]"
       ]
      },
      {
       "metadata": {},
       "output_type": "display_data",
       "png": "[encoded data removed]",
       "text": [
        "<matplotlib.figure.Figure at 0x10a207850>"
       ]
      }
     ],
     "prompt_number": 3
    },
    {
     "cell_type": "code",
     "collapsed": false,
     "input": [
      "#HandStart\n",
      "#FirstDigitTouch\n",
      "#BothStartLoadPhase\n",
      "#LiftOff\n",
      "#Replace\n",
      "#BothReleased\n",
      "size=20000\n",
      "time=np.arange(data.Fp1.shape[0])\n",
      "plt.plot(time[:size],events.HandStart[:size])\n",
      "plt.plot(time[:size],events.FirstDigitTouch[:size])\n",
      "plt.plot(time[:size],events.BothStartLoadPhase[:size])\n",
      "plt.plot(time[:size],events.LiftOff[:size])\n",
      "plt.plot(time[:size],events.Replace[:size])\n",
      "plt.plot(time[:size],events.BothReleased[:size])\n",
      "plt.show()\n",
      "\n"
     ],
     "language": "python",
     "metadata": {},
     "outputs": [],
     "prompt_number": 7
    },
    {
     "cell_type": "code",
     "collapsed": false,
     "input": [
      "shape=(len(data.keys()[1:]),150)\n",
      "ens_avg= np.zeros(shape)\n",
      "\n",
      "\n",
      "index=0\n",
      "cnt=0 # number of events found\n",
      "while True:\n",
      "    index_arr= np.where(events['HandStart'][index:] == 1)[0]\n",
      "    if len(index_arr) == 0: break\n",
      "    index+= index_arr[0]\n",
      "    ans=ans+ data['Fp1'].values[index:index+150]\n",
      "    index+= 150 #set to next 0 in array, now can look for next 1\n",
      "    cnt+=1\n",
      "    print index_arr[0],index,cnt\n",
      "ans= ans/cnt\n",
      "# last=first+ np.where(events.HandStart[first:] == 0)[0][0]"
     ],
     "language": "python",
     "metadata": {},
     "outputs": [
      {
       "output_type": "stream",
       "stream": "stdout",
       "text": [
        "1068 1218 1\n",
        "3490 4858 2\n",
        "3089 8097 3\n",
        "2808 11055 4\n",
        "2817 14022 5\n",
        "3153 17325 6\n",
        "3207"
       ]
      },
      {
       "output_type": "stream",
       "stream": "stdout",
       "text": [
        " 20682 7\n",
        "3992 24824 8\n",
        "3533 28507 9\n",
        "2942 31599 10\n",
        "3568 35317 11\n",
        "3104 38571 12\n",
        "3480 42201 13\n",
        "2831 45182 14\n",
        "3126 48458 15\n",
        "4125 52733 16\n",
        "3836 56719 17\n",
        "3363 60232 18\n",
        "3308 63690 19\n",
        "3372"
       ]
      },
      {
       "output_type": "stream",
       "stream": "stdout",
       "text": [
        " 67212 20\n",
        "3257 70619 21\n",
        "3961 74730 22\n",
        "3076 77956 23\n",
        "3103 81209 24\n",
        "3450 84809 25\n",
        "2895 87854 26\n",
        "3636 91640 27\n",
        "3856 95646 28\n",
        "3675 99471 29\n",
        "3299 102920 30\n",
        "2965 106035 31\n",
        "3279 109464 32\n",
        "2887 112501 33\n",
        "3676 116327 34\n"
       ]
      }
     ],
     "prompt_number": 4
    },
    {
     "cell_type": "code",
     "collapsed": false,
     "input": [
      "plt.plot(ans)"
     ],
     "language": "python",
     "metadata": {},
     "outputs": [
      {
       "metadata": {},
       "output_type": "pyout",
       "prompt_number": 5,
       "text": [
        "[<matplotlib.lines.Line2D at 0x10c13ce50>]"
       ]
      },
      {
       "metadata": {},
       "output_type": "display_data",
       "png": "[encoded data removed]",
       "text": [
        "<matplotlib.figure.Figure at 0x10679b690>"
       ]
      }
     ],
     "prompt_number": 5
    },
    {
     "cell_type": "code",
     "collapsed": false,
     "input": [
      "data.keys()[1:]"
     ],
     "language": "python",
     "metadata": {},
     "outputs": [
      {
       "metadata": {},
       "output_type": "pyout",
       "prompt_number": 24,
       "text": [
        "Index([u'Fp1', u'Fp2', u'F7', u'F3', u'Fz', u'F4', u'F8', u'FC5', u'FC1', u'FC2', u'FC6', u'T7', u'C3', u'Cz', u'C4', u'T8', u'TP9', u'CP5', u'CP1', u'CP2', u'CP6', u'TP10', u'P7', u'P3', u'Pz', u'P4', u'P8', u'PO9', u'O1', u'Oz', u'O2', u'PO10'], dtype='object')"
       ]
      }
     ],
     "prompt_number": 24
    },
    {
     "cell_type": "code",
     "collapsed": false,
     "input": [
      "type(data['Fp1'].values)"
     ],
     "language": "python",
     "metadata": {},
     "outputs": [
      {
       "metadata": {},
       "output_type": "pyout",
       "prompt_number": 43,
       "text": [
        "numpy.ndarray"
       ]
      }
     ],
     "prompt_number": 43
    },
    {
     "cell_type": "code",
     "collapsed": false,
     "input": [
      "len(a)"
     ],
     "language": "python",
     "metadata": {},
     "outputs": [
      {
       "metadata": {},
       "output_type": "pyout",
       "prompt_number": 14,
       "text": [
        "114396"
       ]
      }
     ],
     "prompt_number": 14
    },
    {
     "cell_type": "code",
     "collapsed": false,
     "input": [
      "plt.plot(time,events.HandStart*data.F3)\n"
     ],
     "language": "python",
     "metadata": {},
     "outputs": [
      {
       "metadata": {},
       "output_type": "pyout",
       "prompt_number": 58,
       "text": [
        "[<matplotlib.lines.Line2D at 0x10c8a7b50>]"
       ]
      },
      {
       "metadata": {},
       "output_type": "display_data",
       "png": "[encoded data removed]",
       "text": [
        "<matplotlib.figure.Figure at 0x10c82f210>"
       ]
      }
     ],
     "prompt_number": 58
    },
    {
     "cell_type": "code",
     "collapsed": false,
     "input": [
      "plt.plot(time,data.F3)"
     ],
     "language": "python",
     "metadata": {},
     "outputs": [
      {
       "metadata": {},
       "output_type": "pyout",
       "prompt_number": 59,
       "text": [
        "[<matplotlib.lines.Line2D at 0x111823a90>]"
       ]
      },
      {
       "metadata": {},
       "output_type": "display_data",
       "png": "[encoded data removed]",
       "text": [
        "<matplotlib.figure.Figure at 0x10f710f90>"
       ]
      }
     ],
     "prompt_number": 59
    },
    {
     "cell_type": "code",
     "collapsed": false,
     "input": [],
     "language": "python",
     "metadata": {},
     "outputs": []
    }
   ],
   "metadata": {}
  }
 ]
}
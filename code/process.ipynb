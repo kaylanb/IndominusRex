{
 "cells": [
  {
   "cell_type": "code",
   "execution_count": 1,
   "metadata": {
    "collapsed": false
   },
   "outputs": [],
   "source": [
    "import pandas as pd\n",
    "import numpy as n\n",
    "import matplotlib.pyplot as plt\n",
    "import glob\n",
    "from scipy.signal import butter, lfilter, freqz\n",
    "%matplotlib inline"
   ]
  },
  {
   "cell_type": "code",
   "execution_count": 2,
   "metadata": {
    "collapsed": false
   },
   "outputs": [],
   "source": [
    "def butter_bandpass(lowcut, highcut, fs, order=5):\n",
    "    nyq = .5 * fs\n",
    "    low = lowcut/nyq\n",
    "    high = highcut/nyq\n",
    "    b,a = butter(order, [low,high], btype='band')\n",
    "    return b, a\n",
    "\n",
    "def butter_bandpass_filter(data, lowcut, highcut, fs, order=5):\n",
    "    b,a = butter_bandpass(lowcut, highcut, fs, order=order)\n",
    "    y=lfilter(b, a, data)\n",
    "    return y\n",
    "\n"
   ]
  },
  {
   "cell_type": "code",
   "execution_count": 3,
   "metadata": {
    "collapsed": true
   },
   "outputs": [],
   "source": []
  },
  {
   "cell_type": "code",
   "execution_count": 3,
   "metadata": {
    "collapsed": false,
    "scrolled": true
   },
   "outputs": [
    {
     "name": "stdout",
     "output_type": "stream",
     "text": [
      "['../train/subj1_series1_data.csv', '../train/subj1_series1_events.csv']\n"
     ]
    }
   ],
   "source": [
    "datafiles= glob.glob('../train/subj1_series1_*.csv')\n",
    "print datafiles"
   ]
  },
  {
   "cell_type": "code",
   "execution_count": 4,
   "metadata": {
    "collapsed": false
   },
   "outputs": [
    {
     "name": "stdout",
     "output_type": "stream",
     "text": [
      "Index([u'id', u'Fp1', u'Fp2', u'F7', u'F3', u'Fz', u'F4', u'F8', u'FC5',\n",
      "       u'FC1', u'FC2', u'FC6', u'T7', u'C3', u'Cz', u'C4', u'T8', u'TP9',\n",
      "       u'CP5', u'CP1', u'CP2', u'CP6', u'TP10', u'P7', u'P3', u'Pz', u'P4',\n",
      "       u'P8', u'PO9', u'O1', u'Oz', u'O2', u'PO10'],\n",
      "      dtype='object')\n",
      "Index([u'id', u'HandStart', u'FirstDigitTouch', u'BothStartLoadPhase',\n",
      "       u'LiftOff', u'Replace', u'BothReleased'],\n",
      "      dtype='object')\n"
     ]
    }
   ],
   "source": [
    "data_tbl = pd.read_csv(datafiles[0]); events_tbl = pd.read_csv(datafiles[-1])\n",
    "fdata_tbl = data_tbl.copy(); #store processed data here\n",
    "print data_tbl.keys()\n",
    "print events_tbl.keys()"
   ]
  },
  {
   "cell_type": "code",
   "execution_count": 5,
   "metadata": {
    "collapsed": true
   },
   "outputs": [],
   "source": [
    "#get rid of pesky id, just repeats same subj#_trial#\n",
    "fdata_tbl.drop('id',axis=1,inplace=True) \n",
    "events_tbl.drop('id',axis=1,inplace=True) "
   ]
  },
  {
   "cell_type": "code",
   "execution_count": 8,
   "metadata": {
    "collapsed": true
   },
   "outputs": [],
   "source": [
    "#low band pass filter all channels\n",
    "fs = 500 #Hz\n",
    "lowcut = 2 #Hz\n",
    "highcut = 8 #Hz\n",
    "# b, a = butter_bandpass(lowcut, highcut, fs, order=4)\n",
    "# w, h = freqz(b, a, worN=2000)\n",
    "# plt.plot((fs * .5/n.pi) * w, abs(h))\n",
    "# plt.xlim(0,20)\n",
    "for k in fdata_tbl.keys():\n",
    "    fdata_tbl[k] = butter_bandpass_filter(fdata_tbl[k], lowcut, highcut, fs, order=4)"
   ]
  },
  {
   "cell_type": "code",
   "execution_count": 10,
   "metadata": {
    "collapsed": false
   },
   "outputs": [
    {
     "name": "stdout",
     "output_type": "stream",
     "text": [
      "chan=  Fp1\n",
      "event=  HandStart\n",
      "event=  FirstDigitTouch\n",
      "event=  BothStartLoadPhase\n",
      "event=  LiftOff\n",
      "event=  Replace\n",
      "event=  BothReleased\n",
      "chan=  Fp2\n",
      "event=  HandStart\n",
      "event=  FirstDigitTouch\n",
      "event=  BothStartLoadPhase\n",
      "event=  LiftOff\n",
      "event=  Replace\n",
      "event=  BothReleased\n",
      "chan=  F7\n",
      "event=  HandStart\n",
      "event=  FirstDigitTouch\n",
      "event=  BothStartLoadPhase\n",
      "event=  LiftOff\n",
      "event=  Replace\n",
      "event=  BothReleased\n",
      "chan=  F3\n",
      "event=  HandStart\n",
      "event=  FirstDigitTouch\n",
      "event=  BothStartLoadPhase\n",
      "event=  LiftOff\n",
      "event=  Replace\n",
      "event=  BothReleased\n",
      "chan=  Fz\n",
      "event=  HandStart\n",
      "event=  FirstDigitTouch\n",
      "event=  BothStartLoadPhase\n",
      "event=  LiftOff\n",
      "event=  Replace\n",
      "event=  BothReleased\n",
      "chan=  F4\n",
      "event=  HandStart\n",
      "event=  FirstDigitTouch\n",
      "event=  BothStartLoadPhase\n",
      "event=  LiftOff\n",
      "event=  Replace\n",
      "event=  BothReleased\n",
      "chan=  F8\n",
      "event=  HandStart\n",
      "event=  FirstDigitTouch\n",
      "event=  BothStartLoadPhase\n",
      "event=  LiftOff\n",
      "event=  Replace\n",
      "event=  BothReleased\n",
      "chan=  FC5\n",
      "event=  HandStart\n",
      "event=  FirstDigitTouch\n",
      "event=  BothStartLoadPhase\n",
      "event=  LiftOff\n",
      "event=  Replace\n",
      "event=  BothReleased\n",
      "chan=  FC1\n",
      "event=  HandStart\n",
      "event=  FirstDigitTouch\n",
      "event=  BothStartLoadPhase\n",
      "event=  LiftOff\n",
      "event=  Replace\n",
      "event=  BothReleased\n",
      "chan=  FC2\n",
      "event=  HandStart\n",
      "event=  FirstDigitTouch\n",
      "event=  BothStartLoadPhase\n",
      "event=  LiftOff\n",
      "event=  Replace\n",
      "event=  BothReleased\n",
      "chan=  FC6\n",
      "event=  HandStart\n",
      "event=  FirstDigitTouch\n",
      "event=  BothStartLoadPhase\n",
      "event=  LiftOff\n",
      "event=  Replace\n",
      "event=  BothReleased\n",
      "chan=  T7\n",
      "event=  HandStart\n",
      "event=  FirstDigitTouch\n",
      "event=  BothStartLoadPhase\n",
      "event=  LiftOff\n",
      "event=  Replace\n",
      "event=  BothReleased\n",
      "chan=  C3\n",
      "event=  HandStart\n",
      "event=  FirstDigitTouch\n",
      "event=  BothStartLoadPhase\n",
      "event=  LiftOff\n",
      "event=  Replace\n",
      "event=  BothReleased\n",
      "chan=  Cz\n",
      "event=  HandStart\n",
      "event=  FirstDigitTouch\n",
      "event=  BothStartLoadPhase\n",
      "event=  LiftOff\n",
      "event=  Replace\n",
      "event=  BothReleased\n",
      "chan=  C4\n",
      "event=  HandStart\n",
      "event=  FirstDigitTouch\n",
      "event=  BothStartLoadPhase\n",
      "event=  LiftOff\n",
      "event=  Replace\n",
      "event=  BothReleased\n",
      "chan=  T8\n",
      "event=  HandStart\n",
      "event=  FirstDigitTouch\n",
      "event=  BothStartLoadPhase\n",
      "event=  LiftOff\n",
      "event=  Replace\n",
      "event=  BothReleased\n",
      "chan=  TP9\n",
      "event=  HandStart\n",
      "event=  FirstDigitTouch\n",
      "event=  BothStartLoadPhase\n",
      "event=  LiftOff\n",
      "event=  Replace\n",
      "event=  BothReleased\n",
      "chan=  CP5\n",
      "event=  HandStart\n",
      "event=  FirstDigitTouch\n",
      "event=  BothStartLoadPhase\n",
      "event=  LiftOff\n",
      "event=  Replace\n",
      "event=  BothReleased\n",
      "chan=  CP1\n",
      "event=  HandStart\n",
      "event=  FirstDigitTouch\n",
      "event=  BothStartLoadPhase\n",
      "event=  LiftOff\n",
      "event=  Replace\n",
      "event=  BothReleased\n",
      "chan=  CP2\n",
      "event=  HandStart\n",
      "event=  FirstDigitTouch\n",
      "event=  BothStartLoadPhase\n",
      "event=  LiftOff\n",
      "event=  Replace\n",
      "event=  BothReleased\n",
      "chan=  CP6\n",
      "event=  HandStart\n",
      "event=  FirstDigitTouch\n",
      "event=  BothStartLoadPhase\n",
      "event=  LiftOff\n",
      "event=  Replace\n",
      "event=  BothReleased\n",
      "chan=  TP10\n",
      "event=  HandStart\n",
      "event=  FirstDigitTouch\n",
      "event=  BothStartLoadPhase\n",
      "event=  LiftOff\n",
      "event=  Replace\n",
      "event=  BothReleased\n",
      "chan=  P7\n",
      "event=  HandStart\n",
      "event=  FirstDigitTouch\n",
      "event=  BothStartLoadPhase\n",
      "event=  LiftOff\n",
      "event=  Replace\n",
      "event=  BothReleased\n",
      "chan=  P3\n",
      "event=  HandStart\n",
      "event=  FirstDigitTouch\n",
      "event=  BothStartLoadPhase\n",
      "event=  LiftOff\n",
      "event=  Replace\n",
      "event=  BothReleased\n",
      "chan=  Pz\n",
      "event=  HandStart\n",
      "event=  FirstDigitTouch\n",
      "event=  BothStartLoadPhase\n",
      "event=  LiftOff\n",
      "event=  Replace\n",
      "event=  BothReleased\n",
      "chan=  P4\n",
      "event=  HandStart\n",
      "event=  FirstDigitTouch\n",
      "event=  BothStartLoadPhase\n",
      "event=  LiftOff\n",
      "event=  Replace\n",
      "event=  BothReleased\n",
      "chan=  P8\n",
      "event=  HandStart\n",
      "event=  FirstDigitTouch\n",
      "event=  BothStartLoadPhase\n",
      "event=  LiftOff\n",
      "event=  Replace\n",
      "event=  BothReleased\n",
      "chan=  PO9\n",
      "event=  HandStart\n",
      "event=  FirstDigitTouch\n",
      "event=  BothStartLoadPhase\n",
      "event=  LiftOff\n",
      "event=  Replace\n",
      "event=  BothReleased\n",
      "chan=  O1\n",
      "event=  HandStart\n",
      "event=  FirstDigitTouch\n",
      "event=  BothStartLoadPhase\n",
      "event=  LiftOff\n",
      "event=  Replace\n",
      "event=  BothReleased\n",
      "chan=  Oz\n",
      "event=  HandStart\n",
      "event=  FirstDigitTouch\n",
      "event=  BothStartLoadPhase\n",
      "event=  LiftOff\n",
      "event=  Replace\n",
      "event=  BothReleased\n",
      "chan=  O2\n",
      "event=  HandStart\n",
      "event=  FirstDigitTouch\n",
      "event=  BothStartLoadPhase\n",
      "event=  LiftOff\n",
      "event=  Replace\n",
      "event=  BothReleased\n",
      "chan=  PO10\n",
      "event=  HandStart\n",
      "event=  FirstDigitTouch\n",
      "event=  BothStartLoadPhase\n",
      "event=  LiftOff\n",
      "event=  Replace\n",
      "event=  BothReleased\n"
     ]
    }
   ],
   "source": [
    "#average same event types together\n",
    "def ensemble_avg(chan_data, event):\n",
    "    ans = n.zeros(150)\n",
    "    index = 0\n",
    "    cnt = 0\n",
    "    while True:\n",
    "        index_arr = n.where(event[index:] == 1)[0]\n",
    "        if len(index_arr) == 0: break\n",
    "        index+= index_arr[0]\n",
    "#         print event[index-1],event[index],'    ', event[index+149],event[index+150]\n",
    "        ans=ans + chan_data.values[index:index+150]\n",
    "        index+= 150 #set to next 0 in array, now can look for next 1\n",
    "        cnt+=1\n",
    "    return ans/cnt\n",
    "\n",
    "averages = {}\n",
    "for chan in fdata_tbl.keys(): \n",
    "    print \"chan= \",chan\n",
    "    averages[chan] = {}\n",
    "    for event in events_tbl.keys():\n",
    "        print \"event= \",event\n",
    "        averages[chan][event]= ensemble_avg(fdata_tbl[chan], events_tbl[event])"
   ]
  },
  {
   "cell_type": "code",
   "execution_count": null,
   "metadata": {
    "collapsed": true
   },
   "outputs": [],
   "source": [
    "#covert averages dict to 2D numpy array\n",
    "\n",
    "#PCA on numpy array"
   ]
  },
  {
   "cell_type": "code",
   "execution_count": null,
   "metadata": {
    "collapsed": true
   },
   "outputs": [],
   "source": [
    "#ICA on PCA components"
   ]
  },
  {
   "cell_type": "code",
   "execution_count": 14,
   "metadata": {
    "collapsed": false
   },
   "outputs": [
    {
     "data": {
      "text/plain": [
       "[<matplotlib.lines.Line2D at 0x10b600890>]"
      ]
     },
     "execution_count": 14,
     "metadata": {},
     "output_type": "execute_result"
    },
    {
     "data": {
      "image/png": "[encoded data removed]",
      "text/plain": [
       "<matplotlib.figure.Figure at 0x10adbcbd0>"
      ]
     },
     "metadata": {},
     "output_type": "display_data"
    }
   ],
   "source": [
    "plt.plot(ensemble_avg(fdata_tbl.Fp2, events_tbl['Replace']))\n",
    "plt.plot(averages['Fp2']['Replace']+100)"
   ]
  },
  {
   "cell_type": "code",
   "execution_count": 39,
   "metadata": {
    "collapsed": false
   },
   "outputs": [
    {
     "data": {
      "text/plain": [
       "numpy.ndarray"
      ]
     },
     "execution_count": 39,
     "metadata": {},
     "output_type": "execute_result"
    }
   ],
   "source": [
    "pca = PCA(n_components=3)\n",
    "type(X)"
   ]
  },
  {
   "cell_type": "code",
   "execution_count": 29,
   "metadata": {
    "collapsed": false
   },
   "outputs": [
    {
     "data": {
      "image/png": "[encoded data removed]",
      "text/plain": [
       "<matplotlib.figure.Figure at 0x10eaf3ed0>"
      ]
     },
     "metadata": {},
     "output_type": "display_data"
    },
    {
     "data": {
      "image/png": "[encoded data removed]",
      "text/plain": [
       "<matplotlib.figure.Figure at 0x10eaf3290>"
      ]
     },
     "metadata": {},
     "output_type": "display_data"
    }
   ],
   "source": [
    "from sklearn.decomposition import FastICA, PCA\n",
    "from scipy import signal\n",
    "###############################################################################\n",
    "# Generate sample data\n",
    "n.random.seed(0)\n",
    "n_samples = 2000\n",
    "time = n.linspace(0, 8, n_samples)\n",
    "\n",
    "s1 = n.sin(2 * time)  # Signal 1 : sinusoidal signal\n",
    "s2 = n.sign(n.sin(3 * time))  # Signal 2 : square signal\n",
    "s3 = signal.sawtooth(2 * n.pi * time)  # Signal 3: saw tooth signal\n",
    "plt.plot(s1)\n",
    "plt.plot(s2)\n",
    "plt.plot(s3)\n",
    "\n",
    "S = n.c_[s1, s2, s3]\n",
    "S += 0.2 * n.random.normal(size=S.shape)  # Add noise\n",
    "\n",
    "S /= S.std(axis=0)  # Standardize data\n",
    "# Mix data\n",
    "A = n.array([[1, 1, 1], [0.5, 2, 1.0], [1.5, 1.0, 2.0]])  # Mixing matrix\n",
    "X = n.dot(S, A.T)  # Generate observations\n",
    "\n",
    "# Compute ICA\n",
    "ica = FastICA(n_components=3)\n",
    "S_ = ica.fit_transform(X)  # Reconstruct signals\n",
    "A_ = ica.mixing_  # Get estimated mixing matrix\n",
    "plt.plot(S_)\n",
    "plt.plot(A_)\n",
    "# We can `prove` that the ICA model applies by reverting the unmixing.\n",
    "assert n.allclose(X, n.dot(S_, A_.T) + ica.mean_)\n",
    "\n",
    "# For comparison, compute PCA\n",
    "pca = PCA(n_components=3)\n",
    "H = pca.fit_transform(X)  # Reconstruct signals based on orthogonal components\n",
    "\n",
    "###############################################################################\n",
    "# Plot results\n",
    "\n",
    "plt.figure()\n",
    "\n",
    "models = [X, S, S_, H]\n",
    "names = ['Observations (mixed signal)',\n",
    "         'True Sources',\n",
    "         'ICA recovered signals', \n",
    "         'PCA recovered signals']\n",
    "colors = ['red', 'steelblue', 'orange']\n",
    "\n",
    "for ii, (model, name) in enumerate(zip(models, names), 1):\n",
    "    plt.subplot(4, 1, ii)\n",
    "    plt.title(name)\n",
    "    for sig, color in zip(model.T, colors):\n",
    "        plt.plot(sig, color=color)\n",
    "\n",
    "plt.subplots_adjust(0.09, 0.04, 0.94, 0.94, 0.26, 0.46)\n",
    "plt.show()"
   ]
  },
  {
   "cell_type": "code",
   "execution_count": 33,
   "metadata": {
    "collapsed": false
   },
   "outputs": [
    {
     "data": {
      "text/plain": [
       "(2000, 3)"
      ]
     },
     "execution_count": 33,
     "metadata": {},
     "output_type": "execute_result"
    }
   ],
   "source": [
    "H.shape"
   ]
  },
  {
   "cell_type": "code",
   "execution_count": 32,
   "metadata": {
    "collapsed": false
   },
   "outputs": [
    {
     "data": {
      "text/plain": [
       "((3, 3), (2000, 3), (2000, 3))"
      ]
     },
     "execution_count": 32,
     "metadata": {},
     "output_type": "execute_result"
    }
   ],
   "source": [
    "A_.shape,S_.shape,S.shape"
   ]
  },
  {
   "cell_type": "code",
   "execution_count": null,
   "metadata": {
    "collapsed": true
   },
   "outputs": [],
   "source": []
  }
 ],
 "metadata": {
  "kernelspec": {
   "display_name": "Python 2",
   "language": "python",
   "name": "python2"
  },
  "language_info": {
   "codemirror_mode": {
    "name": "ipython",
    "version": 2
   },
   "file_extension": ".py",
   "mimetype": "text/x-python",
   "name": "python",
   "nbconvert_exporter": "python",
   "pygments_lexer": "ipython2",
   "version": "2.7.10"
  }
 },
 "nbformat": 4,
 "nbformat_minor": 0
}

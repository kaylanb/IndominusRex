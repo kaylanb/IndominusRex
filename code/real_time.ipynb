{
 "cells": [
  {
   "cell_type": "code",
   "execution_count": 28,
   "metadata": {
    "collapsed": true
   },
   "outputs": [],
   "source": [
    "import multiprocessing as mp\n",
    "import pandas as pd\n",
    "import numpy as n\n",
    "import matplotlib.pyplot as plt\n",
    "import glob\n",
    "from scipy.signal import butter, lfilter, freqz\n",
    "from sklearn.decomposition import FastICA, PCA\n",
    "from sklearn.lda import LDA\n",
    "from scipy.stats import kurtosis, skew, stats\n",
    "import pickle\n",
    "%matplotlib inline"
   ]
  },
  {
   "cell_type": "code",
   "execution_count": 169,
   "metadata": {
    "collapsed": false
   },
   "outputs": [],
   "source": [
    "def preprocess(dfile):\n",
    "    data_tbl = pd.read_csv(dfile)\n",
    "    fdata= data_tbl.copy()\n",
    "    ids= fdata['id'].values\n",
    "    #get rid of pesky subject id that is repeated for N time points\n",
    "    fdata.drop('id',axis=1,inplace=True) \n",
    "    #low pass filter\n",
    "    fs = 500 #Hz\n",
    "    lowcut = 2 #Hz\n",
    "    highcut = 8 #Hz\n",
    "    for k in fdata.keys():\n",
    "        fdata[k] = butter_bandpass_filter(fdata[k], lowcut, highcut, fs, order=4)\n",
    "    return (fdata,ids)    \n",
    "\n",
    "#low band pass filter all channels\n",
    "def butter_bandpass(lowcut, highcut, fs, order=5):\n",
    "    nyq = .5 * fs\n",
    "    low = lowcut/nyq\n",
    "    high = highcut/nyq\n",
    "    b,a = butter(order, [low,high], btype='band')\n",
    "    return b, a\n",
    "\n",
    "def butter_bandpass_filter(data, lowcut, highcut, fs, order=5):\n",
    "    b,a = butter_bandpass(lowcut, highcut, fs, order=order)\n",
    "    y=lfilter(b, a, data)\n",
    "    return y\n",
    "\n",
    "def get_features(bucket):\n",
    "# feat[extra] = take std dev over some N pts > 30 then compute delta std / delta t\n",
    "#     feat[extra]= sum_channels_over_all_series_for_same_event_type\n",
    "#power spectrum of noise, first 2 dominant frequencies? -->need sample more than 50 time points\n",
    "    feat=n.zeros(10)\n",
    "    feat[0]= n.median(bucket)\n",
    "    feat[1]= bucket.mean()\n",
    "    feat[2]= bucket.min()\n",
    "    feat[3]= bucket.max()\n",
    "    feat[4]= n.std(bucket)\n",
    "    feat[5]= skew(bucket)\n",
    "    feat[6]= kurtosis(bucket)\n",
    "    slope, intercept, r_value, p_value, std_err = \\\n",
    "        stats.linregress(n.arange(len(bucket)),bucket)\n",
    "    feat[7]= slope\n",
    "    feat[8]= r_value\n",
    "    feat[9]= n.absolute(bucket).sum()\n",
    "    return feat\n",
    "\n",
    "def real_time_features(dfile):\n",
    "    #get data\n",
    "    (data_tbl,ids)= preprocess(dfile)\n",
    "    n_points=50\n",
    "    n_features= 10\n",
    "    vec_feat= n.zeros((n_features,data_tbl.shape[0]))-1\n",
    "    #get features\n",
    "#     if tend == -1: tend= data_tbl.values.copy().shape[0]\n",
    "    for t in range(50,data_tbl.values.copy().shape[0]):\n",
    "        if t == 100 or t == 1000 or t == 10000 or t == 100000: print 't= ',t   \n",
    "        vec_feat[:,t]= get_features( n.mean(data_tbl.values[t-n_points:t,:],axis=1) ) #50 time pts\n",
    "    return (vec_feat,ids)"
   ]
  },
  {
   "cell_type": "code",
   "execution_count": 171,
   "metadata": {
    "collapsed": false
   },
   "outputs": [
    {
     "name": "stdout",
     "output_type": "stream",
     "text": [
      "t=  100\n",
      "t=  1000\n",
      "t=  10000\n",
      "t=  100000\n"
     ]
    }
   ],
   "source": [
    "datafiles= glob.glob('../test/*_data.csv')\n",
    "for dfile in datafiles:\n",
    "    (feat,ids)= real_time_features(dfile)\n",
    "    fname= dfile[:-4]+\"_features.pickle\"\n",
    "    f= open(fname,\"w\")\n",
    "    pickle.dump((feat,ids),f)\n",
    "    f.close()\n"
   ]
  },
  {
   "cell_type": "code",
   "execution_count": 180,
   "metadata": {
    "collapsed": false
   },
   "outputs": [
    {
     "data": {
      "text/plain": [
       "('../test/subj10_series10_data_features.pickle', (128906,), (10, 128906))"
      ]
     },
     "execution_count": 180,
     "metadata": {},
     "output_type": "execute_result"
    }
   ],
   "source": [
    "dfile[:-4]+\"_features.pickle\",ids.shape,feat.shape"
   ]
  },
  {
   "cell_type": "code",
   "execution_count": 136,
   "metadata": {
    "collapsed": false
   },
   "outputs": [
    {
     "name": "stdout",
     "output_type": "stream",
     "text": [
      "(17,) -1.0 %s,%.2f,%.2f,%.2f,%.2f,%.2f,%.2f,%.2f,%.2f,%.2f,%.2f,%.2f,%.2f,%.2f,%.2f,%.2f,%.2f,%.2f\n",
      "subj10_series10_0 <type 'str'>\n"
     ]
    }
   ],
   "source": [
    "f=open('test.csv','a')\n",
    "f.write('id,f1,f2,f3,f4,f5,f6,f7,f8,f9,f10,f11,f12,f13,f14,f15,f16,f17\\n')\n",
    "line='%s'\n",
    "for i in range(n_features): line=line+ ',%.2f'\n",
    "line=line+'\\n'\n",
    "a=feat[:,60]\n",
    "print a.shape,a[0],line,ids[0],type(ids[0])\n",
    "f.write(line % (ids[0],a[0],a[1],a[2],a[3],a[4],a[5],\\\n",
    "               a[6],a[7],a[8],a[9],a[10],a[11],\\\n",
    "               a[12],a[13],a[14],a[15],a[16]))\n",
    "f.close()\n",
    "# n.savetxt(f,range(10),delimiter=',')\n",
    "# f.close()"
   ]
  },
  {
   "cell_type": "code",
   "execution_count": 137,
   "metadata": {
    "collapsed": false
   },
   "outputs": [],
   "source": [
    "mydata= pd.read_csv('test.csv')\n",
    "# np.savetxt( fname.replace('csv', 'feats.csv'), allfeatures, delimiter=',', header=','.join(F.feature_names) )"
   ]
  },
  {
   "cell_type": "code",
   "execution_count": 139,
   "metadata": {
    "collapsed": false
   },
   "outputs": [
    {
     "data": {
      "text/html": [
       "<div>\n",
       "<table border=\"1\" class=\"dataframe\">\n",
       "  <thead>\n",
       "    <tr style=\"text-align: right;\">\n",
       "      <th></th>\n",
       "      <th>id</th>\n",
       "      <th>f1</th>\n",
       "      <th>f2</th>\n",
       "      <th>f3</th>\n",
       "      <th>f4</th>\n",
       "      <th>f5</th>\n",
       "      <th>f6</th>\n",
       "      <th>f7</th>\n",
       "      <th>f8</th>\n",
       "      <th>f9</th>\n",
       "      <th>f10</th>\n",
       "      <th>f11</th>\n",
       "      <th>f12</th>\n",
       "      <th>f13</th>\n",
       "      <th>f14</th>\n",
       "      <th>f15</th>\n",
       "      <th>f16</th>\n",
       "      <th>f17</th>\n",
       "    </tr>\n",
       "  </thead>\n",
       "  <tbody>\n",
       "    <tr>\n",
       "      <th>0</th>\n",
       "      <td>subj10_series10_0</td>\n",
       "      <td>-1</td>\n",
       "      <td>-1</td>\n",
       "      <td>-1</td>\n",
       "      <td>-1</td>\n",
       "      <td>-1</td>\n",
       "      <td>-1</td>\n",
       "      <td>-1</td>\n",
       "      <td>-1</td>\n",
       "      <td>-1</td>\n",
       "      <td>-1</td>\n",
       "      <td>-1</td>\n",
       "      <td>-1</td>\n",
       "      <td>-1</td>\n",
       "      <td>-1</td>\n",
       "      <td>-1</td>\n",
       "      <td>-1</td>\n",
       "      <td>-1</td>\n",
       "    </tr>\n",
       "    <tr>\n",
       "      <th>1</th>\n",
       "      <td>subj10_series10_0</td>\n",
       "      <td>-1</td>\n",
       "      <td>-1</td>\n",
       "      <td>-1</td>\n",
       "      <td>-1</td>\n",
       "      <td>-1</td>\n",
       "      <td>-1</td>\n",
       "      <td>-1</td>\n",
       "      <td>-1</td>\n",
       "      <td>-1</td>\n",
       "      <td>-1</td>\n",
       "      <td>-1</td>\n",
       "      <td>-1</td>\n",
       "      <td>-1</td>\n",
       "      <td>-1</td>\n",
       "      <td>-1</td>\n",
       "      <td>-1</td>\n",
       "      <td>-1</td>\n",
       "    </tr>\n",
       "    <tr>\n",
       "      <th>2</th>\n",
       "      <td>subj10_series10_0</td>\n",
       "      <td>-1</td>\n",
       "      <td>-1</td>\n",
       "      <td>-1</td>\n",
       "      <td>-1</td>\n",
       "      <td>-1</td>\n",
       "      <td>-1</td>\n",
       "      <td>-1</td>\n",
       "      <td>-1</td>\n",
       "      <td>-1</td>\n",
       "      <td>-1</td>\n",
       "      <td>-1</td>\n",
       "      <td>-1</td>\n",
       "      <td>-1</td>\n",
       "      <td>-1</td>\n",
       "      <td>-1</td>\n",
       "      <td>-1</td>\n",
       "      <td>-1</td>\n",
       "    </tr>\n",
       "    <tr>\n",
       "      <th>3</th>\n",
       "      <td>subj10_series10_0</td>\n",
       "      <td>-1</td>\n",
       "      <td>-1</td>\n",
       "      <td>-1</td>\n",
       "      <td>-1</td>\n",
       "      <td>-1</td>\n",
       "      <td>-1</td>\n",
       "      <td>-1</td>\n",
       "      <td>-1</td>\n",
       "      <td>-1</td>\n",
       "      <td>-1</td>\n",
       "      <td>-1</td>\n",
       "      <td>-1</td>\n",
       "      <td>-1</td>\n",
       "      <td>-1</td>\n",
       "      <td>-1</td>\n",
       "      <td>-1</td>\n",
       "      <td>-1</td>\n",
       "    </tr>\n",
       "  </tbody>\n",
       "</table>\n",
       "</div>"
      ],
      "text/plain": [
       "                  id  f1  f2  f3  f4  f5  f6  f7  f8  f9  f10  f11  f12  f13  \\\n",
       "0  subj10_series10_0  -1  -1  -1  -1  -1  -1  -1  -1  -1   -1   -1   -1   -1   \n",
       "1  subj10_series10_0  -1  -1  -1  -1  -1  -1  -1  -1  -1   -1   -1   -1   -1   \n",
       "2  subj10_series10_0  -1  -1  -1  -1  -1  -1  -1  -1  -1   -1   -1   -1   -1   \n",
       "3  subj10_series10_0  -1  -1  -1  -1  -1  -1  -1  -1  -1   -1   -1   -1   -1   \n",
       "\n",
       "   f14  f15  f16  f17  \n",
       "0   -1   -1   -1   -1  \n",
       "1   -1   -1   -1   -1  \n",
       "2   -1   -1   -1   -1  \n",
       "3   -1   -1   -1   -1  "
      ]
     },
     "execution_count": 139,
     "metadata": {},
     "output_type": "execute_result"
    }
   ],
   "source": [
    "# mydata.values[:,0]-feat[:,50]\n",
    "mydata"
   ]
  },
  {
   "cell_type": "code",
   "execution_count": 38,
   "metadata": {
    "collapsed": false
   },
   "outputs": [
    {
     "ename": "ValueError",
     "evalue": "No columns to parse from file",
     "output_type": "error",
     "traceback": [
      "\u001b[0;31m---------------------------------------------------------------------------\u001b[0m",
      "\u001b[0;31mValueError\u001b[0m                                Traceback (most recent call last)",
      "\u001b[0;32m<ipython-input-38-538df6d3dfd2>\u001b[0m in \u001b[0;36m<module>\u001b[0;34m()\u001b[0m\n\u001b[1;32m      1\u001b[0m \u001b[0mpool\u001b[0m \u001b[0;34m=\u001b[0m \u001b[0mmp\u001b[0m\u001b[0;34m.\u001b[0m\u001b[0mPool\u001b[0m\u001b[0;34m(\u001b[0m\u001b[0;36m4\u001b[0m\u001b[0;34m)\u001b[0m\u001b[0;34m\u001b[0m\u001b[0m\n\u001b[0;32m----> 2\u001b[0;31m \u001b[0mpool\u001b[0m\u001b[0;34m.\u001b[0m\u001b[0mmap\u001b[0m\u001b[0;34m(\u001b[0m \u001b[0mreal_time_features\u001b[0m\u001b[0;34m,\u001b[0m\u001b[0mdfile\u001b[0m\u001b[0;34m)\u001b[0m\u001b[0;34m\u001b[0m\u001b[0m\n\u001b[0m",
      "\u001b[0;32m/Users/kburleigh/miniconda/lib/python2.7/multiprocessing/pool.pyc\u001b[0m in \u001b[0;36mmap\u001b[0;34m(self, func, iterable, chunksize)\u001b[0m\n\u001b[1;32m    249\u001b[0m         '''\n\u001b[1;32m    250\u001b[0m         \u001b[0;32massert\u001b[0m \u001b[0mself\u001b[0m\u001b[0;34m.\u001b[0m\u001b[0m_state\u001b[0m \u001b[0;34m==\u001b[0m \u001b[0mRUN\u001b[0m\u001b[0;34m\u001b[0m\u001b[0m\n\u001b[0;32m--> 251\u001b[0;31m         \u001b[0;32mreturn\u001b[0m \u001b[0mself\u001b[0m\u001b[0;34m.\u001b[0m\u001b[0mmap_async\u001b[0m\u001b[0;34m(\u001b[0m\u001b[0mfunc\u001b[0m\u001b[0;34m,\u001b[0m \u001b[0miterable\u001b[0m\u001b[0;34m,\u001b[0m \u001b[0mchunksize\u001b[0m\u001b[0;34m)\u001b[0m\u001b[0;34m.\u001b[0m\u001b[0mget\u001b[0m\u001b[0;34m(\u001b[0m\u001b[0;34m)\u001b[0m\u001b[0;34m\u001b[0m\u001b[0m\n\u001b[0m\u001b[1;32m    252\u001b[0m \u001b[0;34m\u001b[0m\u001b[0m\n\u001b[1;32m    253\u001b[0m     \u001b[0;32mdef\u001b[0m \u001b[0mimap\u001b[0m\u001b[0;34m(\u001b[0m\u001b[0mself\u001b[0m\u001b[0;34m,\u001b[0m \u001b[0mfunc\u001b[0m\u001b[0;34m,\u001b[0m \u001b[0miterable\u001b[0m\u001b[0;34m,\u001b[0m \u001b[0mchunksize\u001b[0m\u001b[0;34m=\u001b[0m\u001b[0;36m1\u001b[0m\u001b[0;34m)\u001b[0m\u001b[0;34m:\u001b[0m\u001b[0;34m\u001b[0m\u001b[0m\n",
      "\u001b[0;32m/Users/kburleigh/miniconda/lib/python2.7/multiprocessing/pool.pyc\u001b[0m in \u001b[0;36mget\u001b[0;34m(self, timeout)\u001b[0m\n\u001b[1;32m    565\u001b[0m             \u001b[0;32mreturn\u001b[0m \u001b[0mself\u001b[0m\u001b[0;34m.\u001b[0m\u001b[0m_value\u001b[0m\u001b[0;34m\u001b[0m\u001b[0m\n\u001b[1;32m    566\u001b[0m         \u001b[0;32melse\u001b[0m\u001b[0;34m:\u001b[0m\u001b[0;34m\u001b[0m\u001b[0m\n\u001b[0;32m--> 567\u001b[0;31m             \u001b[0;32mraise\u001b[0m \u001b[0mself\u001b[0m\u001b[0;34m.\u001b[0m\u001b[0m_value\u001b[0m\u001b[0;34m\u001b[0m\u001b[0m\n\u001b[0m\u001b[1;32m    568\u001b[0m \u001b[0;34m\u001b[0m\u001b[0m\n\u001b[1;32m    569\u001b[0m     \u001b[0;32mdef\u001b[0m \u001b[0m_set\u001b[0m\u001b[0;34m(\u001b[0m\u001b[0mself\u001b[0m\u001b[0;34m,\u001b[0m \u001b[0mi\u001b[0m\u001b[0;34m,\u001b[0m \u001b[0mobj\u001b[0m\u001b[0;34m)\u001b[0m\u001b[0;34m:\u001b[0m\u001b[0;34m\u001b[0m\u001b[0m\n",
      "\u001b[0;31mValueError\u001b[0m: No columns to parse from file"
     ]
    }
   ],
   "source": [
    "pool = mp.Pool(4)\n",
    "pool.map( real_time_features,dfile)"
   ]
  },
  {
   "cell_type": "code",
   "execution_count": 22,
   "metadata": {
    "collapsed": false
   },
   "outputs": [
    {
     "data": {
      "text/plain": [
       "array([ 160.66605994,  162.35086644,  163.70384041,  165.8717153 ,\n",
       "        169.05707906,  172.64400541,  176.01915347,  176.76141942,\n",
       "        175.01728959,  174.89888739])"
      ]
     },
     "execution_count": 22,
     "metadata": {},
     "output_type": "execute_result"
    }
   ],
   "source": [
    "feat[0,50:60]"
   ]
  },
  {
   "cell_type": "code",
   "execution_count": null,
   "metadata": {
    "collapsed": true
   },
   "outputs": [],
   "source": []
  }
 ],
 "metadata": {
  "kernelspec": {
   "display_name": "Python 2",
   "language": "python",
   "name": "python2"
  },
  "language_info": {
   "codemirror_mode": {
    "name": "ipython",
    "version": 2
   },
   "file_extension": ".py",
   "mimetype": "text/x-python",
   "name": "python",
   "nbconvert_exporter": "python",
   "pygments_lexer": "ipython2",
   "version": "2.7.10"
  }
 },
 "nbformat": 4,
 "nbformat_minor": 0
}

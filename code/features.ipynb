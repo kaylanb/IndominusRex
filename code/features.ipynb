{
 "metadata": {
  "name": "",
  "signature": "sha256:c394b6d99cecca93150dc29f373a7ad993449c859eab9fea91a3cbf022b15594"
 },
 "nbformat": 3,
 "nbformat_minor": 0,
 "worksheets": [
  {
   "cells": [
    {
     "cell_type": "code",
     "collapsed": false,
     "input": [
      "import numpy as np\n",
      "import multiprocessing as mp\n",
      "from glob import glob\n",
      "import matplotlib.pyplot as plt\n",
      "%matplotlib inline"
     ],
     "language": "python",
     "metadata": {},
     "outputs": [],
     "prompt_number": 64
    },
    {
     "cell_type": "code",
     "collapsed": false,
     "input": [
      "class Features():\n",
      "    \"\"\"\n",
      "    Class that calculates all features.\n",
      "    \"\"\"\n",
      "\n",
      "    def __init__(self, fname):\n",
      "        self.fname = fname\n",
      "        self.read_in_data()\n",
      "        # find all of the features we want to include and set them up\n",
      "        self.feature_funcs = []\n",
      "        self.feature_names = []\n",
      "        allfuncs = dir(self) #list of all methods\n",
      "        allfuncs.sort()\n",
      "        for f in allfuncs:\n",
      "            if (f[0] == '_') and (f[1] != '_'):\n",
      "                self.feature_funcs.append( getattr(self, f) ) #feature function\n",
      "                self.feature_names.append( f ) #name of feature function\n",
      "        # create the calculated features array\n",
      "        self.features = np.zeros( len(self.feature_funcs) )\n",
      "        # the time (as an index) we're at in the data array\n",
      "        self.t = 0\n",
      "\n",
      "    def __iter__(self):\n",
      "        # allows you to iterate over this object\n",
      "        return self\n",
      "    def next(self):\n",
      "        \"\"\"\n",
      "        Calculate the next step of features and return them.\n",
      "        \"\"\"\n",
      "        if self.t < (len(self.all_data)-1):\n",
      "            self.update_features()\n",
      "            return self.features\n",
      "        else:\n",
      "            raise StopIteration\n",
      "\n",
      "    def update_features(self, t=None):\n",
      "        \"\"\"\n",
      "        Updates all of the features.\n",
      "        If given a timestep t, will go to that timestep.\n",
      "        Otherwise updates self.t by one and calculates.\n",
      "        \"\"\"\n",
      "        if t != None:\n",
      "            self.t = t\n",
      "        else:\n",
      "            self.t += 1500 \n",
      "        print 'Updating features to timestep',self.t\n",
      "        self.current_data = self.all_data[:self.t] #does this for all channels\n",
      "        self.current_time = self.all_time[:self.t]\n",
      "        for i,f in enumerate(self.feature_funcs): #run all feature functions on current_data\n",
      "            self.features[i] = f() #save numerical value at current time\n",
      "    def read_in_data(self):\n",
      "        \"\"\"\n",
      "        From Kaylan's code.\n",
      "        \"\"\"\n",
      "        fin = open(self.fname, 'r')\n",
      "        #get header info\n",
      "        channels = fin.readline().split(',')\n",
      "        channels[-1] = channels[-1].strip()\n",
      "        print \"channels are: \",channels\n",
      "        fin.close()\n",
      "        #read in all data\n",
      "        formats = ['S10']+['f10']*(len(channels)-1)\n",
      "        dtype = {'names': channels,'formats': formats}\n",
      "        self.all_data = np.loadtxt(self.fname, delimiter=',', skiprows=1, dtype=dtype)\n",
      "        self.channels= channels\n",
      "        #time in units of indicies NOT seconds (divide by 500 to get seconds)\n",
      "        self.all_time = np.arange(1, self.all_data['Fp1'].shape[0]+1)\n",
      "\n",
      "    def goBackInTime(self,dt):\n",
      "        \"\"\"returns index of previous time at current time - dt (in seconds)\"\"\"\n",
      "        sec= self.current_time/500. #500 Hz\n",
      "        return np.where(sec >= sec[-1] - dt)[0].min()\n",
      "        \n",
      "    #################################################################\n",
      "    # put feature functions here\n",
      "    #\n",
      "    # just add any function that starts with \"_\" and returns\n",
      "    #  a single number, and it will be included in the feature array\n",
      "    #################################################################\n",
      "\n",
      "    #bipolar and laplacian spatial filters over channels C3 and C4 (Lotte et al. 2014)\n",
      "    #for each spatial filter, the mean, std dev, slope of mean, etc of signal can be a feature\n",
      "    #however, we don't have FC3,CP3,C4,C1 channels!?\n",
      "    def _c3_laplacian_mean(self,dt=0.25):\n",
      "        '''c3_laplacian = 4C3-FC3-C5-C1-CP3 but we don't have these, so instead trying:\n",
      "        = 4C3-FC5-FC1-CP5-CP1'''\n",
      "        istart= self.goBackInTime(dt) #index where previous time = current_time - dt\n",
      "        ans= np.mean( 4*self.current_data['C3'][istart:]-self.current_data['FC5'][istart:] \\\n",
      "                       -self.current_data['FC1'][istart:] -self.current_data['CP5'][istart:] \\\n",
      "                       -self.current_data['CP1'][istart:])\n",
      "        print \"istart, c3_laplacian_mean = \",istart, ans\n",
      "        return ans\n",
      "    def _c3_laplacian_slope(self,dt=0.25):\n",
      "        '''ditto above'''\n",
      "        istart= self.goBackInTime(dt)\n",
      "        signal= 4*self.current_data['C3'][istart:]-self.current_data['FC5'][istart:] \\\n",
      "                       -self.current_data['FC1'][istart:] -self.current_data['CP5'][istart:] \\\n",
      "                       -self.current_data['CP1'][istart:]\n",
      "        ans= (signal[-1]-signal[0])/dt\n",
      "        print \"istart, c3_laplacian_slope= \",istart, ans\n",
      "\n",
      "    def _feature2(self):\n",
      "        # look at the 100 most recent data points in the Fp1 array\n",
      "        return np.mean( self.current_data['Fp1'][-100:] )\n",
      "\n",
      "\n",
      "#################################################################\n",
      "# this function calculates the feature vectors for a data file\n",
      "#  and saves the result\n",
      "#################################################################\n",
      "def calc_features( fname ):\n",
      "    F = Features( fname )\n",
      "    allfeatures = np.array([feats for feats in F])\n",
      "    np.savetxt( fname.replace('csv', 'feats.csv'), allfeatures, delimiter=',', header=','.join(F.feature_names) )\n",
      "    print 'Calculated features from',fname,'and saved to',fname.replace('csv','feats.csv')\n",
      "\n",
      "if __name__ == '__main__':\n",
      "    #################################################################\n",
      "    # calculate the features for all training data in parallel on 4 cores\n",
      "    #################################################################\n",
      "    files = glob( '../data/train/*data.csv' )\n",
      "    pool = mp.Pool(4)\n",
      "    pool.map_async( calc_features, files )"
     ],
     "language": "python",
     "metadata": {},
     "outputs": [],
     "prompt_number": 57
    },
    {
     "cell_type": "code",
     "collapsed": false,
     "input": [
      "kay= Features('../train/subj10_series1_data.csv')"
     ],
     "language": "python",
     "metadata": {},
     "outputs": [
      {
       "output_type": "stream",
       "stream": "stdout",
       "text": [
        "channels are:  ['id', 'Fp1', 'Fp2', 'F7', 'F3', 'Fz', 'F4', 'F8', 'FC5', 'FC1', 'FC2', 'FC6', 'T7', 'C3', 'Cz', 'C4', 'T8', 'TP9', 'CP5', 'CP1', 'CP2', 'CP6', 'TP10', 'P7', 'P3', 'Pz', 'P4', 'P8', 'PO9', 'O1', 'Oz', 'O2', 'PO10']\n"
       ]
      }
     ],
     "prompt_number": 58
    },
    {
     "cell_type": "code",
     "collapsed": false,
     "input": [
      "kay.next()"
     ],
     "language": "python",
     "metadata": {},
     "outputs": [
      {
       "output_type": "stream",
       "stream": "stdout",
       "text": [
        "Updating features to timestep 1500\n",
        "istart, c3_laplacian_mean =  1374 1165.87\n",
        "istart, c3_laplacian_slope=  1374 -252.0\n"
       ]
      },
      {
       "metadata": {},
       "output_type": "pyout",
       "prompt_number": 59,
       "text": [
        "array([ 1165.8651123 ,            nan,  -260.14001465])"
       ]
      }
     ],
     "prompt_number": 59
    },
    {
     "cell_type": "code",
     "collapsed": false,
     "input": [
      "kay.channels"
     ],
     "language": "python",
     "metadata": {},
     "outputs": [
      {
       "metadata": {},
       "output_type": "pyout",
       "prompt_number": 61,
       "text": [
        "['id',\n",
        " 'Fp1',\n",
        " 'Fp2',\n",
        " 'F7',\n",
        " 'F3',\n",
        " 'Fz',\n",
        " 'F4',\n",
        " 'F8',\n",
        " 'FC5',\n",
        " 'FC1',\n",
        " 'FC2',\n",
        " 'FC6',\n",
        " 'T7',\n",
        " 'C3',\n",
        " 'Cz',\n",
        " 'C4',\n",
        " 'T8',\n",
        " 'TP9',\n",
        " 'CP5',\n",
        " 'CP1',\n",
        " 'CP2',\n",
        " 'CP6',\n",
        " 'TP10',\n",
        " 'P7',\n",
        " 'P3',\n",
        " 'Pz',\n",
        " 'P4',\n",
        " 'P8',\n",
        " 'PO9',\n",
        " 'O1',\n",
        " 'Oz',\n",
        " 'O2',\n",
        " 'PO10']"
       ]
      }
     ],
     "prompt_number": 61
    },
    {
     "cell_type": "code",
     "collapsed": false,
     "input": [
      "plt.plot(kay.current_time,kay.current_data['PO9'])"
     ],
     "language": "python",
     "metadata": {},
     "outputs": [
      {
       "metadata": {},
       "output_type": "pyout",
       "prompt_number": 65,
       "text": [
        "[<matplotlib.lines.Line2D at 0x108fc9d50>]"
       ]
      },
      {
       "metadata": {},
       "output_type": "display_data",
       "png": "[encoded data removed]",
       "text": [
        "<matplotlib.figure.Figure at 0x10a16aa50>"
       ]
      }
     ],
     "prompt_number": 65
    },
    {
     "cell_type": "code",
     "collapsed": false,
     "input": [
      "kay.current_data['Fp1'][-1000:].mean()"
     ],
     "language": "python",
     "metadata": {},
     "outputs": [
      {
       "metadata": {},
       "output_type": "pyout",
       "prompt_number": 28,
       "text": [
        "-304.0"
       ]
      }
     ],
     "prompt_number": 28
    },
    {
     "cell_type": "code",
     "collapsed": false,
     "input": [
      "time = kay.all_time/500."
     ],
     "language": "python",
     "metadata": {},
     "outputs": [],
     "prompt_number": 32
    },
    {
     "cell_type": "code",
     "collapsed": false,
     "input": [
      "time[0]"
     ],
     "language": "python",
     "metadata": {},
     "outputs": [
      {
       "metadata": {},
       "output_type": "pyout",
       "prompt_number": 34,
       "text": [
        "0.002"
       ]
      }
     ],
     "prompt_number": 34
    },
    {
     "cell_type": "code",
     "collapsed": false,
     "input": [
      "dt= 0.25\n",
      "time[0]+dt"
     ],
     "language": "python",
     "metadata": {},
     "outputs": [
      {
       "metadata": {},
       "output_type": "pyout",
       "prompt_number": 35,
       "text": [
        "0.252"
       ]
      }
     ],
     "prompt_number": 35
    },
    {
     "cell_type": "code",
     "collapsed": false,
     "input": [
      "sec = kay.all_time/500.\n",
      "ind=np.where(sec <= curr_time/500.+dt)[0].max()\n"
     ],
     "language": "python",
     "metadata": {},
     "outputs": [
      {
       "metadata": {},
       "output_type": "pyout",
       "prompt_number": 39,
       "text": [
        "0.252"
       ]
      }
     ],
     "prompt_number": 39
    },
    {
     "cell_type": "code",
     "collapsed": false,
     "input": [
      "kay."
     ],
     "language": "python",
     "metadata": {},
     "outputs": []
    }
   ],
   "metadata": {}
  }
 ]
}